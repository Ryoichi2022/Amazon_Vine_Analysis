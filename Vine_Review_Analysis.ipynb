{
  "nbformat": 4,
  "nbformat_minor": 0,
  "metadata": {
    "colab": {
      "provenance": []
    },
    "kernelspec": {
      "name": "python3",
      "display_name": "Python 3"
    },
    "language_info": {
      "name": "python"
    }
  },
  "cells": [
    {
      "cell_type": "code",
      "execution_count": null,
      "metadata": {
        "colab": {
          "base_uri": "https://localhost:8080/"
        },
        "id": "lgJAgKkcNa12",
        "outputId": "e6c29182-041e-42cc-f6a2-7b6f9f175c76"
      },
      "outputs": [
        {
          "output_type": "stream",
          "name": "stdout",
          "text": [
            "\r0% [Working]\r            \rGet:1 http://security.ubuntu.com/ubuntu bionic-security InRelease [88.7 kB]\n",
            "\r0% [Connecting to archive.ubuntu.com] [1 InRelease 14.2 kB/88.7 kB 16%] [Connec\r                                                                               \rHit:2 https://cloud.r-project.org/bin/linux/ubuntu bionic-cran40/ InRelease\n",
            "\r0% [Connecting to archive.ubuntu.com] [1 InRelease 88.7 kB/88.7 kB 100%] [Conne\r0% [Connecting to archive.ubuntu.com] [Waiting for headers] [Connecting to ppa.\r0% [2 InRelease gpgv 3,626 B] [Connecting to archive.ubuntu.com] [Waiting for h\r                                                                               \rHit:3 http://archive.ubuntu.com/ubuntu bionic InRelease\n",
            "\r0% [2 InRelease gpgv 3,626 B] [Waiting for headers] [Waiting for headers] [Wait\r                                                                               \rGet:4 http://archive.ubuntu.com/ubuntu bionic-updates InRelease [88.7 kB]\n",
            "\r0% [2 InRelease gpgv 3,626 B] [4 InRelease 14.2 kB/88.7 kB 16%] [Waiting for he\r                                                                               \r0% [2 InRelease gpgv 3,626 B] [Waiting for headers] [Waiting for headers]\r                                                                         \rGet:5 http://archive.ubuntu.com/ubuntu bionic-backports InRelease [83.3 kB]\n",
            "Get:6 http://ppa.launchpad.net/c2d4u.team/c2d4u4.0+/ubuntu bionic InRelease [15.9 kB]\n",
            "Ign:7 https://developer.download.nvidia.com/compute/machine-learning/repos/ubuntu1804/x86_64  InRelease\n",
            "Hit:8 https://developer.download.nvidia.com/compute/cuda/repos/ubuntu1804/x86_64  InRelease\n",
            "Hit:9 https://developer.download.nvidia.com/compute/machine-learning/repos/ubuntu1804/x86_64  Release\n",
            "Hit:10 http://ppa.launchpad.net/cran/libgit2/ubuntu bionic InRelease\n",
            "Hit:11 http://ppa.launchpad.net/deadsnakes/ppa/ubuntu bionic InRelease\n",
            "Hit:12 http://ppa.launchpad.net/graphics-drivers/ppa/ubuntu bionic InRelease\n",
            "Get:13 http://ppa.launchpad.net/c2d4u.team/c2d4u4.0+/ubuntu bionic/main Sources [2,150 kB]\n",
            "Get:15 http://ppa.launchpad.net/c2d4u.team/c2d4u4.0+/ubuntu bionic/main amd64 Packages [1,101 kB]\n",
            "Fetched 3,528 kB in 4s (994 kB/s)\n",
            "Reading package lists... Done\n"
          ]
        }
      ],
      "source": [
        "import os\n",
        "# Find the latest version of spark 3.0 from http://www.apache.org/dist/spark/ and enter as the spark version\n",
        "# For example:\n",
        "# spark_version = 'spark-3.0.3'\n",
        "spark_version = 'spark-3.2.2'\n",
        "os.environ['SPARK_VERSION']=spark_version\n",
        "\n",
        "# Install Spark and Java\n",
        "!apt-get update\n",
        "!apt-get install openjdk-11-jdk-headless -qq > /dev/null\n",
        "!wget -q http://www.apache.org/dist/spark/$SPARK_VERSION/$SPARK_VERSION-bin-hadoop2.7.tgz\n",
        "!tar xf $SPARK_VERSION-bin-hadoop2.7.tgz\n",
        "!pip install -q findspark\n",
        "\n",
        "# Set Environment Variables\n",
        "import os\n",
        "os.environ[\"JAVA_HOME\"] = \"/usr/lib/jvm/java-11-openjdk-amd64\"\n",
        "os.environ[\"SPARK_HOME\"] = f\"/content/{spark_version}-bin-hadoop2.7\"\n",
        "\n",
        "# Start a SparkSession\n",
        "import findspark\n",
        "findspark.init()"
      ]
    },
    {
      "cell_type": "code",
      "source": [
        "# Download the Postgres driver that will allow Spark to interact with Postgres.\n",
        "!wget https://jdbc.postgresql.org/download/postgresql-42.2.16.jar"
      ],
      "metadata": {
        "colab": {
          "base_uri": "https://localhost:8080/"
        },
        "id": "CgFisKaHNzvq",
        "outputId": "8cedddad-ff21-4d47-a691-e5dfd1c6fa8a"
      },
      "execution_count": null,
      "outputs": [
        {
          "output_type": "stream",
          "name": "stdout",
          "text": [
            "--2022-09-25 16:45:28--  https://jdbc.postgresql.org/download/postgresql-42.2.16.jar\n",
            "Resolving jdbc.postgresql.org (jdbc.postgresql.org)... 72.32.157.228, 2001:4800:3e1:1::228\n",
            "Connecting to jdbc.postgresql.org (jdbc.postgresql.org)|72.32.157.228|:443... connected.\n",
            "HTTP request sent, awaiting response... 200 OK\n",
            "Length: 1002883 (979K) [application/java-archive]\n",
            "Saving to: ‘postgresql-42.2.16.jar.1’\n",
            "\n",
            "postgresql-42.2.16. 100%[===================>] 979.38K  5.43MB/s    in 0.2s    \n",
            "\n",
            "2022-09-25 16:45:28 (5.43 MB/s) - ‘postgresql-42.2.16.jar.1’ saved [1002883/1002883]\n",
            "\n"
          ]
        }
      ]
    },
    {
      "cell_type": "code",
      "source": [
        "from pyspark.sql import SparkSession\n",
        "spark = SparkSession.builder.appName(\"M16-Amazon-Challenge\").config(\"spark.driver.extraClassPath\",\"/content/postgresql-42.2.16.jar\").getOrCreate()"
      ],
      "metadata": {
        "id": "MspyYUi3N1Iz"
      },
      "execution_count": null,
      "outputs": []
    },
    {
      "cell_type": "code",
      "source": [
        "from pyspark import SparkFiles\n",
        "url = \"https://s3.amazonaws.com/amazon-reviews-pds/tsv/amazon_reviews_us_Books_v1_02.tsv.gz\"\n",
        "spark.sparkContext.addFile(url)\n",
        "df = spark.read.option(\"encoding\", \"UTF-8\").csv(SparkFiles.get(\"amazon_reviews_us_Books_v1_02.tsv.gz\"), sep=\"\\t\", header=True, inferSchema=True)\n",
        "df.show()"
      ],
      "metadata": {
        "colab": {
          "base_uri": "https://localhost:8080/"
        },
        "id": "F5iAdE_YN8-P",
        "outputId": "a2208af0-754d-4a49-dffc-610859292c3e"
      },
      "execution_count": null,
      "outputs": [
        {
          "output_type": "stream",
          "name": "stdout",
          "text": [
            "+-----------+-----------+--------------+----------+--------------+--------------------+----------------+-----------+-------------+-----------+----+-----------------+--------------------+--------------------+-----------+\n",
            "|marketplace|customer_id|     review_id|product_id|product_parent|       product_title|product_category|star_rating|helpful_votes|total_votes|vine|verified_purchase|     review_headline|         review_body|review_date|\n",
            "+-----------+-----------+--------------+----------+--------------+--------------------+----------------+-----------+-------------+-----------+----+-----------------+--------------------+--------------------+-----------+\n",
            "|         US|   12076615| RQ58W7SMO911M|0385730586|     122662979|Sisterhood of the...|           Books|          4|            2|          3|   N|                N|this book was a g...|this boook was a ...| 2005-10-14|\n",
            "|         US|   12703090|  RF6IUKMGL8SF|0811828964|      56191234|The Bad Girl's Gu...|           Books|          3|            5|          5|   N|                N|           Fun Fluff|If you are lookin...| 2005-10-14|\n",
            "|         US|   12257412|R1DOSHH6AI622S|1844161560|     253182049|Eisenhorn (A Warh...|           Books|          4|            1|         22|   N|                N| this isn't a review|never read it-a y...| 2005-10-14|\n",
            "|         US|   50732546| RATOTLA3OF70O|0373836635|     348672532|Colby Conspiracy ...|           Books|          5|            2|          2|   N|                N|fine author on he...|Though she is hon...| 2005-10-14|\n",
            "|         US|   51964897|R1TNWRKIVHVYOV|0262181533|     598678717|The Psychology of...|           Books|          4|            0|          2|   N|                N|Execellent cursor...|Review based on a...| 2005-10-14|\n",
            "|         US|   31048862|R2F53LI9KK9MOY|0316769487|     862964341|The Catcher in th...|           Books|          4|            2|          2|   N|                N|   Interesting, fun.|My only complaint...| 2005-10-14|\n",
            "|         US|   53000124|R1KJ6MB7MRSQFF|0805076069|     145341889|Bait and Switch: ...|           Books|          4|            9|         11|   N|                N|I viewed this the...|This book is chil...| 2005-10-14|\n",
            "|         US|   29732693|R2XIM9LT335WHE|1581603681|     640542054|Opening Combinati...|           Books|          4|            3|         10|   N|                N|No Frills - Just ...|When looking for ...| 2005-10-14|\n",
            "|         US|   48541186|R1VE0FQQ0QTQJN|0300108834|     915891133|A Little History ...|           Books|          5|           16|         20|   N|                Y|Simple, entertain...|Never been much f...| 2005-10-14|\n",
            "|         US|   15280864|R1VKEE2NWSWDRU|0446531081|     880645124|Hour Game (King &...|           Books|          4|            0|          0|   N|                N|        A good read!|If you enjoy a we...| 2005-10-14|\n",
            "|         US|   24209213|R2UP6XSVYJBJ2H|0976822105|     731931430|     Faith is a Verb|           Books|          5|            0|          0|   N|                N|Made me Question ...|I thoroughly enjo...| 2005-10-14|\n",
            "|         US|   52253037|R21SYDQ70ILUC0|1580085695|     586052746|Furry Logic: A Gu...|           Books|          5|            1|          1|   N|                Y|    The Perfect Gift|If you are stumpe...| 2005-10-14|\n",
            "|         US|   27925116| R7M06Z88PD7SX|0029148510|      72387289|Acts of War: Beha...|           Books|          4|           14|         14|   N|                N|Solid Book About ...|Whether intention...| 2005-10-14|\n",
            "|         US|   15005044| RRS38KZ4WB5O2|1592285570|     702385650|Temple to the Win...|           Books|          5|            1|          1|   N|                N|A riveting accoun...|Temple to the win...| 2005-10-14|\n",
            "|         US|   52534781|R2YDYRSLGNHPHR|0811848833|     102333549|The Star Wars Pos...|           Books|          4|           16|         19|   N|                Y|Comprehensive vis...|At last... a comp...| 2005-10-14|\n",
            "|         US|   26217071|R1BMPM18O6VZOR|0782144276|     971452783|Photoshop for Nat...|           Books|          4|           13|         14|   N|                N|          Great Book|I find \\\\\"Photosh...| 2005-10-14|\n",
            "|         US|   37684582|R1AABFZH0J0C0C|0375757996|     760991156|The Basic Works o...|           Books|          3|           17|         35|   N|                N|Problems with thi...|I love Aristotle ...| 2005-10-14|\n",
            "|         US|   45232107|R3SJYLG07EHNE9|013146308X|     332774292|The Pterosaurs: F...|           Books|          2|           16|         34|   N|                N|Warmed over lefto...|To his discredit,...| 2005-10-14|\n",
            "|         US|   15437121|R2TIO43ND87XVO|0375701907|     635714194|Straight Man: A N...|           Books|          5|            1|          1|   N|                N|       Funniest Book|Hands down, the f...| 2005-10-14|\n",
            "|         US|   52157117|R18TY4WD19OUAO|141378240X|     656010659|   Lipstick's Legacy|           Books|          5|            1|          1|   N|                N|          Great Work|I read this book ...| 2005-10-14|\n",
            "+-----------+-----------+--------------+----------+--------------+--------------------+----------------+-----------+-------------+-----------+----+-----------------+--------------------+--------------------+-----------+\n",
            "only showing top 20 rows\n",
            "\n"
          ]
        }
      ]
    },
    {
      "cell_type": "code",
      "source": [
        "# Create the vine_table. DataFrame\n",
        "vine_df = df.select(['review_id', 'star_rating', 'helpful_votes', 'total_votes', 'vine', 'verified_purchase'])\n",
        "vine_df.show()"
      ],
      "metadata": {
        "colab": {
          "base_uri": "https://localhost:8080/"
        },
        "id": "lP1PSk0xODJY",
        "outputId": "c0391ba0-0632-417d-c1cb-cfcf761f0828"
      },
      "execution_count": null,
      "outputs": [
        {
          "output_type": "stream",
          "name": "stdout",
          "text": [
            "+--------------+-----------+-------------+-----------+----+-----------------+\n",
            "|     review_id|star_rating|helpful_votes|total_votes|vine|verified_purchase|\n",
            "+--------------+-----------+-------------+-----------+----+-----------------+\n",
            "| RQ58W7SMO911M|          4|            2|          3|   N|                N|\n",
            "|  RF6IUKMGL8SF|          3|            5|          5|   N|                N|\n",
            "|R1DOSHH6AI622S|          4|            1|         22|   N|                N|\n",
            "| RATOTLA3OF70O|          5|            2|          2|   N|                N|\n",
            "|R1TNWRKIVHVYOV|          4|            0|          2|   N|                N|\n",
            "|R2F53LI9KK9MOY|          4|            2|          2|   N|                N|\n",
            "|R1KJ6MB7MRSQFF|          4|            9|         11|   N|                N|\n",
            "|R2XIM9LT335WHE|          4|            3|         10|   N|                N|\n",
            "|R1VE0FQQ0QTQJN|          5|           16|         20|   N|                Y|\n",
            "|R1VKEE2NWSWDRU|          4|            0|          0|   N|                N|\n",
            "|R2UP6XSVYJBJ2H|          5|            0|          0|   N|                N|\n",
            "|R21SYDQ70ILUC0|          5|            1|          1|   N|                Y|\n",
            "| R7M06Z88PD7SX|          4|           14|         14|   N|                N|\n",
            "| RRS38KZ4WB5O2|          5|            1|          1|   N|                N|\n",
            "|R2YDYRSLGNHPHR|          4|           16|         19|   N|                Y|\n",
            "|R1BMPM18O6VZOR|          4|           13|         14|   N|                N|\n",
            "|R1AABFZH0J0C0C|          3|           17|         35|   N|                N|\n",
            "|R3SJYLG07EHNE9|          2|           16|         34|   N|                N|\n",
            "|R2TIO43ND87XVO|          5|            1|          1|   N|                N|\n",
            "|R18TY4WD19OUAO|          5|            1|          1|   N|                N|\n",
            "+--------------+-----------+-------------+-----------+----+-----------------+\n",
            "only showing top 20 rows\n",
            "\n"
          ]
        }
      ]
    },
    {
      "cell_type": "code",
      "source": [
        "# Function to use for columns\n",
        "from pyspark.sql.functions import col\n",
        "\n",
        "# Filter for only columns with total_votes >= 20\n",
        "vine_df_vote = vine_df.filter(col('total_votes')>=20)\n",
        "vine_df_vote.show()"
      ],
      "metadata": {
        "id": "8uthV4kbOMea",
        "colab": {
          "base_uri": "https://localhost:8080/"
        },
        "outputId": "2f2875e9-c334-4f88-da4b-27305a5ee301"
      },
      "execution_count": null,
      "outputs": [
        {
          "output_type": "stream",
          "name": "stdout",
          "text": [
            "+--------------+-----------+-------------+-----------+----+-----------------+\n",
            "|     review_id|star_rating|helpful_votes|total_votes|vine|verified_purchase|\n",
            "+--------------+-----------+-------------+-----------+----+-----------------+\n",
            "|R1DOSHH6AI622S|          4|            1|         22|   N|                N|\n",
            "|R1VE0FQQ0QTQJN|          5|           16|         20|   N|                Y|\n",
            "|R1AABFZH0J0C0C|          3|           17|         35|   N|                N|\n",
            "|R3SJYLG07EHNE9|          2|           16|         34|   N|                N|\n",
            "|R3MD5TZJGIPTDU|          5|           21|         31|   N|                N|\n",
            "|R1KPOIT5WT3NEF|          1|           13|         29|   N|                N|\n",
            "| RX6OWUF8EFZ72|          5|           27|         28|   N|                N|\n",
            "| R33IFUWCNYFSO|          2|            4|         45|   N|                N|\n",
            "| RWMT2MXG3WLDP|          5|            6|         20|   N|                N|\n",
            "|R1OPUF771LL5O5|          4|           27|         27|   N|                N|\n",
            "|R3AW5JRZYH66M5|          1|          268|        307|   N|                N|\n",
            "|R2DXLNKF0EL4CI|          4|           24|         27|   N|                Y|\n",
            "|R12EHXBC0GP2C2|          5|           23|         24|   N|                N|\n",
            "|R2JSWNTAO83X3V|          5|          145|        184|   N|                N|\n",
            "|R3THZWOBS1086J|          5|           46|         47|   N|                N|\n",
            "|R160DHJPJ4B20R|          4|           28|         30|   N|                N|\n",
            "|R27UDFNE6MY1LO|          2|           15|         24|   N|                N|\n",
            "|R34X92SSRBI0N4|          5|           26|         29|   N|                N|\n",
            "| RDBVYHGTTICMV|          1|            4|         25|   N|                N|\n",
            "| RGTKXJ8P5O7LR|          4|           16|         21|   N|                N|\n",
            "+--------------+-----------+-------------+-----------+----+-----------------+\n",
            "only showing top 20 rows\n",
            "\n"
          ]
        }
      ]
    },
    {
      "cell_type": "code",
      "source": [
        "# Calculate % of helpful votes\n",
        "import pyspark.sql.functions as F\n",
        "\n",
        "vine_df_vote = vine_df_vote.withColumn('%_helpful_vote', F.col('helpful_votes')/F.col('total_votes')*100)"
      ],
      "metadata": {
        "id": "QJw_cVLOISHG"
      },
      "execution_count": null,
      "outputs": []
    },
    {
      "cell_type": "code",
      "source": [
        "# Retrieve helpful votes\n",
        "vine_df_helpful = vine_df_vote.filter(col('%_helpful_vote')>=50)\n",
        "vine_df_helpful.show()"
      ],
      "metadata": {
        "colab": {
          "base_uri": "https://localhost:8080/"
        },
        "id": "FzWKnpqnFq6e",
        "outputId": "9b66b07a-b2f4-456e-90d2-5f8729bf389a"
      },
      "execution_count": null,
      "outputs": [
        {
          "output_type": "stream",
          "name": "stdout",
          "text": [
            "+--------------+-----------+-------------+-----------+----+-----------------+-----------------+\n",
            "|     review_id|star_rating|helpful_votes|total_votes|vine|verified_purchase|   %_helpful_vote|\n",
            "+--------------+-----------+-------------+-----------+----+-----------------+-----------------+\n",
            "|R1VE0FQQ0QTQJN|          5|           16|         20|   N|                Y|             80.0|\n",
            "|R3MD5TZJGIPTDU|          5|           21|         31|   N|                N|67.74193548387096|\n",
            "| RX6OWUF8EFZ72|          5|           27|         28|   N|                N|96.42857142857143|\n",
            "|R1OPUF771LL5O5|          4|           27|         27|   N|                N|            100.0|\n",
            "|R3AW5JRZYH66M5|          1|          268|        307|   N|                N|87.29641693811075|\n",
            "|R2DXLNKF0EL4CI|          4|           24|         27|   N|                Y|88.88888888888889|\n",
            "|R12EHXBC0GP2C2|          5|           23|         24|   N|                N|95.83333333333334|\n",
            "|R2JSWNTAO83X3V|          5|          145|        184|   N|                N|78.80434782608695|\n",
            "|R3THZWOBS1086J|          5|           46|         47|   N|                N|97.87234042553192|\n",
            "|R160DHJPJ4B20R|          4|           28|         30|   N|                N|93.33333333333333|\n",
            "|R27UDFNE6MY1LO|          2|           15|         24|   N|                N|             62.5|\n",
            "|R34X92SSRBI0N4|          5|           26|         29|   N|                N|89.65517241379311|\n",
            "| RGTKXJ8P5O7LR|          4|           16|         21|   N|                N|76.19047619047619|\n",
            "|R1TK5Q90GGJSTN|          4|           59|         68|   N|                N|86.76470588235294|\n",
            "|R3E8UZOCG84HNO|          5|           18|         24|   N|                N|             75.0|\n",
            "|R33O2810BC4UR0|          5|          101|        103|   N|                Y|98.05825242718447|\n",
            "|R1M60NYB4UPRJ8|          5|           19|         24|   N|                N|79.16666666666666|\n",
            "|R38RXR8USISV94|          4|         1150|       1228|   N|                N|93.64820846905538|\n",
            "|R2E2KP6K6OUBEX|          5|           59|         60|   N|                N|98.33333333333333|\n",
            "|R3F583X11I1RP6|          1|           40|         43|   N|                N|93.02325581395348|\n",
            "+--------------+-----------+-------------+-----------+----+-----------------+-----------------+\n",
            "only showing top 20 rows\n",
            "\n"
          ]
        }
      ]
    },
    {
      "cell_type": "code",
      "source": [
        "# Reviews written as part of Vine program\n",
        "vine_df_helpful_paid = vine_df_helpful.filter(col('vine')=='Y')\n",
        "vine_df_helpful_paid.show()"
      ],
      "metadata": {
        "colab": {
          "base_uri": "https://localhost:8080/"
        },
        "id": "YKwI8eBUMAyF",
        "outputId": "ccff5a2a-c1ad-44e3-9608-b0eeee8d757e"
      },
      "execution_count": null,
      "outputs": [
        {
          "output_type": "stream",
          "name": "stdout",
          "text": [
            "+---------+-----------+-------------+-----------+----+-----------------+--------------+\n",
            "|review_id|star_rating|helpful_votes|total_votes|vine|verified_purchase|%_helpful_vote|\n",
            "+---------+-----------+-------------+-----------+----+-----------------+--------------+\n",
            "+---------+-----------+-------------+-----------+----+-----------------+--------------+\n",
            "\n"
          ]
        }
      ]
    },
    {
      "cell_type": "code",
      "source": [
        "# Unpaid reviews\n",
        "vine_df_helpful_unpaid = vine_df_helpful.filter(col('vine')=='N')\n",
        "vine_df_helpful_unpaid.show()"
      ],
      "metadata": {
        "colab": {
          "base_uri": "https://localhost:8080/"
        },
        "id": "1lXifyLbODpz",
        "outputId": "283df2d8-963e-45fe-ce8f-8ae705a9fe94"
      },
      "execution_count": null,
      "outputs": [
        {
          "output_type": "stream",
          "name": "stdout",
          "text": [
            "+--------------+-----------+-------------+-----------+----+-----------------+-----------------+\n",
            "|     review_id|star_rating|helpful_votes|total_votes|vine|verified_purchase|   %_helpful_vote|\n",
            "+--------------+-----------+-------------+-----------+----+-----------------+-----------------+\n",
            "|R1VE0FQQ0QTQJN|          5|           16|         20|   N|                Y|             80.0|\n",
            "|R3MD5TZJGIPTDU|          5|           21|         31|   N|                N|67.74193548387096|\n",
            "| RX6OWUF8EFZ72|          5|           27|         28|   N|                N|96.42857142857143|\n",
            "|R1OPUF771LL5O5|          4|           27|         27|   N|                N|            100.0|\n",
            "|R3AW5JRZYH66M5|          1|          268|        307|   N|                N|87.29641693811075|\n",
            "|R2DXLNKF0EL4CI|          4|           24|         27|   N|                Y|88.88888888888889|\n",
            "|R12EHXBC0GP2C2|          5|           23|         24|   N|                N|95.83333333333334|\n",
            "|R2JSWNTAO83X3V|          5|          145|        184|   N|                N|78.80434782608695|\n",
            "|R3THZWOBS1086J|          5|           46|         47|   N|                N|97.87234042553192|\n",
            "|R160DHJPJ4B20R|          4|           28|         30|   N|                N|93.33333333333333|\n",
            "|R27UDFNE6MY1LO|          2|           15|         24|   N|                N|             62.5|\n",
            "|R34X92SSRBI0N4|          5|           26|         29|   N|                N|89.65517241379311|\n",
            "| RGTKXJ8P5O7LR|          4|           16|         21|   N|                N|76.19047619047619|\n",
            "|R1TK5Q90GGJSTN|          4|           59|         68|   N|                N|86.76470588235294|\n",
            "|R3E8UZOCG84HNO|          5|           18|         24|   N|                N|             75.0|\n",
            "|R33O2810BC4UR0|          5|          101|        103|   N|                Y|98.05825242718447|\n",
            "|R1M60NYB4UPRJ8|          5|           19|         24|   N|                N|79.16666666666666|\n",
            "|R38RXR8USISV94|          4|         1150|       1228|   N|                N|93.64820846905538|\n",
            "|R2E2KP6K6OUBEX|          5|           59|         60|   N|                N|98.33333333333333|\n",
            "|R3F583X11I1RP6|          1|           40|         43|   N|                N|93.02325581395348|\n",
            "+--------------+-----------+-------------+-----------+----+-----------------+-----------------+\n",
            "only showing top 20 rows\n",
            "\n"
          ]
        }
      ]
    },
    {
      "cell_type": "code",
      "source": [
        "# Count reviews\n",
        "count_vine_helpful_unpaid = vine_df_helpful_unpaid.count()\n",
        "count_vine_helpful_unpaid_five = vine_df_helpful_unpaid.filter(col('star_rating')=='5').count()"
      ],
      "metadata": {
        "id": "J6YA6FbFWZgd"
      },
      "execution_count": null,
      "outputs": []
    },
    {
      "cell_type": "code",
      "source": [
        "# Calculate % of 5-star reviews\n",
        "p_vine_df_helpful_unpaid_five = count_vine_helpful_unpaid_five/count_vine_helpful_unpaid*100"
      ],
      "metadata": {
        "id": "3701rJfpa5gl"
      },
      "execution_count": null,
      "outputs": []
    },
    {
      "cell_type": "code",
      "source": [
        "# Create summary\n",
        "dataframe = spark.createDataFrame([    \n",
        "    ('Unpaid', count_vine_helpful_unpaid, count_vine_helpful_unpaid_five, round(p_vine_df_helpful_unpaid_five, 1))\n",
        "], ['Review Type', 'Total Helpful Reviews', '5-Star Reviews', '5-Star Reviews (%)'])\n",
        "dataframe.show()"
      ],
      "metadata": {
        "colab": {
          "base_uri": "https://localhost:8080/"
        },
        "id": "R1ipoyEtXHQ2",
        "outputId": "9ba0a53f-0fa8-4988-d49d-80466cd5e528"
      },
      "execution_count": null,
      "outputs": [
        {
          "output_type": "stream",
          "name": "stdout",
          "text": [
            "+-----------+---------------------+--------------+------------------+\n",
            "|Review Type|Total Helpful Reviews|5-Star Reviews|5-Star Reviews (%)|\n",
            "+-----------+---------------------+--------------+------------------+\n",
            "|     Unpaid|               403807|        242889|              60.1|\n",
            "+-----------+---------------------+--------------+------------------+\n",
            "\n"
          ]
        }
      ]
    },
    {
      "cell_type": "code",
      "source": [
        "# Paid review in original table\n",
        "df.filter(col('vine')==\"Y\").count()"
      ],
      "metadata": {
        "colab": {
          "base_uri": "https://localhost:8080/"
        },
        "id": "wnnhsJ3Mm3rE",
        "outputId": "aca42be0-ea33-4319-d6d4-dea3e2d64bb9"
      },
      "execution_count": null,
      "outputs": [
        {
          "output_type": "execute_result",
          "data": {
            "text/plain": [
              "2"
            ]
          },
          "metadata": {},
          "execution_count": 20
        }
      ]
    }
  ]
}